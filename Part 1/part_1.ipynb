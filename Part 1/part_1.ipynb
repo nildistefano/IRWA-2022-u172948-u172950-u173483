{
 "cells": [
  {
   "cell_type": "code",
   "execution_count": null,
   "metadata": {},
   "outputs": [],
   "source": [
    "from collections import defaultdict\n",
    "from array import array\n",
    "import nltk\n",
    "# nltk.download('stopwords')\n",
    "# nltk.download('punkt')\n",
    "from nltk.stem import PorterStemmer\n",
    "from nltk.corpus import stopwords\n",
    "from nltk.tokenize import word_tokenize\n",
    "import math\n",
    "import numpy as np\n",
    "import collections\n",
    "from numpy import linalg as la\n",
    "import json\n",
    "import random\n",
    "import re\n",
    "import pandas as pd"
   ]
  },
  {
   "cell_type": "code",
   "execution_count": null,
   "metadata": {},
   "outputs": [],
   "source": [
    "data_folder = './data/'\n",
    "output_folder = './output/'\n",
    "\n",
    "data_path = data_folder + 'tw_hurricane_data.json'\n",
    "map_path = data_folder + 'tweet_document_ids_map.csv'\n",
    "\n",
    "# Reading every line in the input file.\n",
    "with open(data_path) as file:\n",
    "    lines = file.readlines()\n",
    "    \n",
    "print(\"Total number of tweets read: {}\".format(len(lines)))\n",
    "\n",
    "# Reading each json line\n",
    "lines = [json.loads(line) for line in lines]"
   ]
  },
  {
   "cell_type": "code",
   "execution_count": null,
   "metadata": {},
   "outputs": [],
   "source": [
    "def clean(text):\n",
    "    \"\"\"\n",
    "    Preprocess the tweet text by lower-casing all characters, tokenizing,\n",
    "    removing non-alphanumerics and stopwords and stemming.\n",
    "    \n",
    "    Argument:\n",
    "    text -- string (text) to be preprocessed\n",
    "    \n",
    "    Returns:\n",
    "    text - a list of tokens corresponding to the input text after the preprocessing.\n",
    "    \"\"\"\n",
    "    \n",
    "    \n",
    "    stemmer = PorterStemmer()\n",
    "    stop_words = set(stopwords.words(\"english\"))\n",
    "    \n",
    "    text = text.lower() ## Lower-casing all characters.\n",
    "    text = word_tokenize(text) ## Tokenizing the text.\n",
    "    text = [token for token in text if token.isalpha()] ## Removing non-alphanumeric tokens.\n",
    "    text = [x for x in text if x not in stop_words] ## Removing stop words.\n",
    "    text = [stemmer.stem(x) for x in text] ## Stemming the remaining tokens.\n",
    "    \n",
    "    return text"
   ]
  },
  {
   "cell_type": "code",
   "execution_count": null,
   "metadata": {},
   "outputs": [],
   "source": [
    "def feature_extraction(tweet_line):\n",
    "    \"\"\"\n",
    "    Extract the fundamental information of a tweet.\n",
    "    \n",
    "    Argument:\n",
    "    tweet_line -- JSON with all the information of a tweet\n",
    "    \n",
    "    Returns:\n",
    "    tweet - a dictionary that contains de following fields: Text (Unprocessed), \n",
    "            Username, Date, Hashtags, Mentions, Likes, Retweets, Url and Clean Text\n",
    "    \n",
    "    \"\"\"\n",
    "    \n",
    "    tweet = {}\n",
    "    tweet['Id'] = tweet_line['id']\n",
    "    tweet['Text'] = tweet_line['full_text']\n",
    "    tweet['Username'] = tweet_line['user']['screen_name']\n",
    "    tweet['Date'] = tweet_line['created_at']\n",
    "    tweet['Hashtags'] = [x['text'] for x in tweet_line['entities']['hashtags']]\n",
    "    tweet['Mentions'] = re.findall(\"@([a-zA-Z0-9_]{1,50})\", tweet['Text'])\n",
    "    tweet['Likes'] = tweet_line['favorite_count']\n",
    "    tweet['Retweets'] = tweet_line['retweet_count']\n",
    "    tweet['Url'] = 'https://twitter.com/'+tweet['Username']+'/status/'+tweet_line['id_str']\n",
    "    tweet['Clean_text'] = clean(re.sub(r'http\\S+', '', tweet_line['full_text']))\n",
    "    \n",
    "    return tweet"
   ]
  },
  {
   "cell_type": "code",
   "execution_count": null,
   "metadata": {},
   "outputs": [],
   "source": [
    "l = random.randint(0, len(lines)-1)\n",
    "new_tweet = feature_extraction(lines[l])\n",
    "\n",
    "print('Id: \\t\\t{}'.format(new_tweet['Id']))\n",
    "print('Default tweet: \\t' + repr(new_tweet['Text']))\n",
    "print('Clean Tweet: \\t{}'.format(new_tweet['Clean_text']))\n",
    "print('Username: \\t{}'.format(new_tweet['Username']))\n",
    "print('Date: \\t\\t{}'.format(new_tweet['Date']))\n",
    "print('Hashtags: \\t{}'.format(new_tweet['Hashtags']))\n",
    "print('Mentions: \\t{}'.format(new_tweet['Mentions']))\n",
    "print('Likes: \\t\\t{}'.format(new_tweet['Likes']))\n",
    "print('Retweets: \\t{}'.format(new_tweet['Retweets']))\n",
    "print('Url: \\t\\t{}\\n'.format(new_tweet['Url']))"
   ]
  },
  {
   "cell_type": "code",
   "execution_count": null,
   "metadata": {},
   "outputs": [],
   "source": [
    "def tweets_df(tweets):\n",
    "    \"\"\"\n",
    "    Build a dataframe containing all tweets' info\n",
    "    \n",
    "    Argument:\n",
    "    tweets -- List of JSON containing the information of a tweet\n",
    "    \n",
    "    Returns:\n",
    "    df - a dataframe that contains the information processed for all tweets\n",
    "    \n",
    "    \"\"\"\n",
    "    \n",
    "    df = pd.DataFrame(columns=['Id', 'Text', 'Clean_text', 'Username', 'Date', 'Hashtags', 'Mentions', 'Likes', 'Retweets', 'Url'])\n",
    "\n",
    "    for tweet in tweets:\n",
    "        df.append(feature_extraction(tweet), ignore_index=True)\n",
    "\n",
    "    return df"
   ]
  },
  {
   "cell_type": "code",
   "execution_count": null,
   "metadata": {},
   "outputs": [],
   "source": [
    "data = tweets_df(lines)\n",
    "data"
   ]
  },
  {
   "cell_type": "code",
   "execution_count": null,
   "metadata": {},
   "outputs": [],
   "source": [
    "# Reading map file as a dataframe\n",
    "df = pd.read_csv(map_path, delimiter='\\t', names=['Document', 'Id'])\n",
    "\n"
   ]
  },
  {
   "cell_type": "code",
   "execution_count": null,
   "metadata": {},
   "outputs": [],
   "source": []
  }
 ],
 "metadata": {
  "kernelspec": {
   "display_name": "Python 3",
   "language": "python",
   "name": "python3"
  },
  "language_info": {
   "codemirror_mode": {
    "name": "ipython",
    "version": 3
   },
   "file_extension": ".py",
   "mimetype": "text/x-python",
   "name": "python",
   "nbconvert_exporter": "python",
   "pygments_lexer": "ipython3",
   "version": "3.10.5"
  },
  "vscode": {
   "interpreter": {
    "hash": "369f2c481f4da34e4445cda3fffd2e751bd1c4d706f27375911949ba6bb62e1c"
   }
  }
 },
 "nbformat": 4,
 "nbformat_minor": 4
}
