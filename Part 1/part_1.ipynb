{
 "cells": [
  {
   "cell_type": "code",
   "execution_count": 85,
   "metadata": {},
   "outputs": [],
   "source": [
    "from collections import defaultdict\n",
    "from array import array\n",
    "from nltk.stem import PorterStemmer\n",
    "from nltk.corpus import stopwords\n",
    "from nltk.tokenize import word_tokenize\n",
    "import math\n",
    "import numpy as np\n",
    "import collections\n",
    "from numpy import linalg as la\n",
    "import json"
   ]
  },
  {
   "cell_type": "code",
   "execution_count": 86,
   "metadata": {},
   "outputs": [
    {
     "name": "stdout",
     "output_type": "stream",
     "text": [
      "Total number of tweets read: 4000\n"
     ]
    }
   ],
   "source": [
    "data_folder = './data/'\n",
    "output_folder = './output/'\n",
    "\n",
    "data_path = data_folder + 'tw_hurricane_data.json'\n",
    "map_path = data_folder + 'tweet_document_ids_map.csv'\n",
    "\n",
    "\n",
    "with open(data_path) as file:\n",
    "    lines = file.readlines()\n",
    "    \n",
    "print(\"Total number of tweets read: {}\".format(len(lines)))\n",
    "\n",
    "lines = [json.loads(line) for line in lines]"
   ]
  },
  {
   "cell_type": "code",
   "execution_count": 115,
   "metadata": {},
   "outputs": [],
   "source": [
    "def clean(text):\n",
    "    stemmer = PorterStemmer()\n",
    "    stop_words = set(stopwords.words(\"english\"))\n",
    "    text = text.lower()\n",
    "    text = word_tokenize(text)\n",
    "    text = [token for token in text if token.isalpha()]\n",
    "    text = [x for x in text if x not in stop_words]  \n",
    "    text = [stemmer.stem(x) for x in text] \n",
    "    return text"
   ]
  },
  {
   "cell_type": "code",
   "execution_count": 120,
   "metadata": {},
   "outputs": [],
   "source": [
    "def feature_extraction(tweet_line):\n",
    "    tweet = {}\n",
    "    tweet['text'] = clean(tweet_line['full_text'])\n",
    "    tweet['username'] = tweet_line['user']['screen_name']\n",
    "    tweet['date'] = tweet_line['created_at']\n",
    "    tweet['hashtags'] = tweet_line['entities']['hashtags'][0]['text']\n",
    "    tweet['likes'] = tweet_line['favorite_count']\n",
    "    tweet['retweets'] = tweet_line['retweet_count']\n",
    "    tweet['url'] = 'https://twitter.com/'+tweet['username']+'/status/'+tweet_line['id_str']\n",
    "    \n",
    "    return tweet"
   ]
  },
  {
   "cell_type": "code",
   "execution_count": 139,
   "metadata": {},
   "outputs": [
    {
     "name": "stdout",
     "output_type": "stream",
     "text": [
      "Tweet: \t\t['today', 'edit', 'smoke', 'eater', 'photo', 'essay', 'hurricaneian', 'also', 'anim', 'blep', 'http']\n",
      "Username: \tDominicGwinn\n",
      "Date: \t\tFri Sep 30 18:38:37 +0000 2022\n",
      "Hashtags: \tHurricaneIan\n",
      "Likes: \t\t0\n",
      "Retweets: \t0\n",
      "Url: \t\thttps://twitter.com/DominicGwinn/status/1575918052595552256\n",
      "\n"
     ]
    }
   ],
   "source": [
    "\n",
    "new_tweet = feature_extraction(lines[10])\n",
    "print('Tweet: \\t\\t' + repr(new_tweet['text']))\n",
    "print('Username: \\t{}'.format(new_tweet['username']))\n",
    "print('Date: \\t\\t{}'.format(new_tweet['date']))\n",
    "print('Hashtags: \\t{}'.format(new_tweet['hashtags']))\n",
    "print('Likes: \\t\\t{}'.format(new_tweet['likes']))\n",
    "print('Retweets: \\t{}'.format(new_tweet['retweets']))\n",
    "print('Url: \\t\\t{}\\n'.format(new_tweet['url']))\n",
    "\n"
   ]
  }
 ],
 "metadata": {
  "kernelspec": {
   "display_name": "Python 3",
   "language": "python",
   "name": "python3"
  },
  "language_info": {
   "codemirror_mode": {
    "name": "ipython",
    "version": 3
   },
   "file_extension": ".py",
   "mimetype": "text/x-python",
   "name": "python",
   "nbconvert_exporter": "python",
   "pygments_lexer": "ipython3",
   "version": "3.7.6"
  }
 },
 "nbformat": 4,
 "nbformat_minor": 4
}
