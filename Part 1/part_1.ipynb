{
 "cells": [
  {
   "cell_type": "code",
   "execution_count": 40,
   "metadata": {},
   "outputs": [
    {
     "name": "stderr",
     "output_type": "stream",
     "text": [
      "[nltk_data] Downloading package stopwords to\n",
      "[nltk_data]     C:\\Users\\polam\\AppData\\Roaming\\nltk_data...\n",
      "[nltk_data]   Package stopwords is already up-to-date!\n",
      "[nltk_data] Downloading package punkt to\n",
      "[nltk_data]     C:\\Users\\polam\\AppData\\Roaming\\nltk_data...\n",
      "[nltk_data]   Package punkt is already up-to-date!\n"
     ]
    }
   ],
   "source": [
    "from collections import defaultdict\n",
    "from array import array\n",
    "import nltk\n",
    "nltk.download('stopwords')\n",
    "nltk.download('punkt')\n",
    "from nltk.stem import PorterStemmer\n",
    "from nltk.corpus import stopwords\n",
    "from nltk.tokenize import word_tokenize\n",
    "import math\n",
    "import numpy as np\n",
    "import collections\n",
    "from numpy import linalg as la\n",
    "import json\n",
    "import random\n",
    "import re"
   ]
  },
  {
   "cell_type": "code",
   "execution_count": 11,
   "metadata": {},
   "outputs": [
    {
     "name": "stdout",
     "output_type": "stream",
     "text": [
      "Total number of tweets read: 4000\n"
     ]
    }
   ],
   "source": [
    "data_folder = './data/'\n",
    "output_folder = './output/'\n",
    "\n",
    "data_path = data_folder + 'tw_hurricane_data.json'\n",
    "map_path = data_folder + 'tweet_document_ids_map.csv'\n",
    "\n",
    "\n",
    "with open(data_path) as file:\n",
    "    lines = file.readlines()\n",
    "    \n",
    "print(\"Total number of tweets read: {}\".format(len(lines)))\n",
    "\n",
    "lines = [json.loads(line) for line in lines]"
   ]
  },
  {
   "cell_type": "code",
   "execution_count": 12,
   "metadata": {},
   "outputs": [],
   "source": [
    "def clean(text):\n",
    "    stemmer = PorterStemmer()\n",
    "    stop_words = set(stopwords.words(\"english\"))\n",
    "    text = text.lower()\n",
    "    text = word_tokenize(text)\n",
    "    text = [token for token in text if token.isalpha()]\n",
    "    text = [x for x in text if x not in stop_words]  \n",
    "    text = [stemmer.stem(x) for x in text]\n",
    "    \n",
    "    return text"
   ]
  },
  {
   "cell_type": "code",
   "execution_count": 44,
   "metadata": {},
   "outputs": [],
   "source": [
    "def feature_extraction(tweet_line):\n",
    "    tweet = {}\n",
    "    tweet['text'] = tweet_line['full_text']\n",
    "    tweet['username'] = tweet_line['user']['screen_name']\n",
    "    tweet['date'] = tweet_line['created_at']\n",
    "    tweet['hashtags'] = [x['text'] for x in tweet_line['entities']['hashtags']]\n",
    "    tweet['mentions'] = re.findall(\"@([a-zA-Z0-9_]{1,50})\", tweet['text'])\n",
    "    tweet['likes'] = tweet_line['favorite_count']\n",
    "    tweet['retweets'] = tweet_line['retweet_count']\n",
    "    tweet['url'] = 'https://twitter.com/'+tweet['username']+'/status/'+tweet_line['id_str']\n",
    "    tweet['tk_text'] = clean(tweet_line['full_text'])\n",
    "    \n",
    "    return tweet"
   ]
  },
  {
   "cell_type": "code",
   "execution_count": 59,
   "metadata": {},
   "outputs": [
    {
     "name": "stdout",
     "output_type": "stream",
     "text": [
      "Default tweet: \t{}'. @GovRonDeSantis is requesting quick insurance claim settlements for Floridians. \\n\\nWe don’t need the National Flood Insurance Program (NFIP) fighting w/ private insurance carriers over wind vs. flood damage. I will be watching this closely. \\n\\nPray for our state.  #HurricaneIan'\n",
      "Tweet: \t\t['govrondesanti', 'request', 'quick', 'insur', 'claim', 'settlement', 'floridian', 'need', 'nation', 'flood', 'insur', 'program', 'nfip', 'fight', 'privat', 'insur', 'carrier', 'wind', 'flood', 'damag', 'watch', 'close', 'pray', 'state', 'hurricaneian']\n",
      "Username: \tCoryMillsFL\n",
      "Date: \t\tFri Sep 30 14:46:08 +0000 2022\n",
      "Hashtags: \t['HurricaneIan']\n",
      "Mentions: \t['GovRonDeSantis']\n",
      "Likes: \t\t315\n",
      "Retweets: \t85\n",
      "Url: \t\thttps://twitter.com/CoryMillsFL/status/1575859547012534273\n",
      "\n"
     ]
    }
   ],
   "source": [
    "l = random.randint(0, len(lines)-1)\n",
    "new_tweet = feature_extraction(lines[l])\n",
    "\n",
    "print('Default tweet: \\t{}' + repr(new_tweet['text']))\n",
    "print('Tweet: \\t\\t{}'.format(new_tweet['tk_text']))\n",
    "print('Username: \\t{}'.format(new_tweet['username']))\n",
    "print('Date: \\t\\t{}'.format(new_tweet['date']))\n",
    "print('Hashtags: \\t{}'.format(new_tweet['hashtags']))\n",
    "print('Mentions: \\t{}'.format(new_tweet['mentions']))\n",
    "print('Likes: \\t\\t{}'.format(new_tweet['likes']))\n",
    "print('Retweets: \\t{}'.format(new_tweet['retweets']))\n",
    "print('Url: \\t\\t{}\\n'.format(new_tweet['url']))\n"
   ]
  },
  {
   "cell_type": "code",
   "execution_count": null,
   "metadata": {},
   "outputs": [],
   "source": []
  }
 ],
 "metadata": {
  "kernelspec": {
   "display_name": "Python 3.10.5 64-bit",
   "language": "python",
   "name": "python3"
  },
  "language_info": {
   "codemirror_mode": {
    "name": "ipython",
    "version": 3
   },
   "file_extension": ".py",
   "mimetype": "text/x-python",
   "name": "python",
   "nbconvert_exporter": "python",
   "pygments_lexer": "ipython3",
   "version": "3.10.5"
  },
  "vscode": {
   "interpreter": {
    "hash": "369f2c481f4da34e4445cda3fffd2e751bd1c4d706f27375911949ba6bb62e1c"
   }
  }
 },
 "nbformat": 4,
 "nbformat_minor": 4
}
