{
 "cells": [
  {
   "cell_type": "code",
   "execution_count": 3,
   "metadata": {},
   "outputs": [],
   "source": [
    "import nltk\n",
    "from collections import defaultdict\n",
    "from array import array\n",
    "from nltk.stem import PorterStemmer\n",
    "from nltk.corpus import stopwords\n",
    "import math\n",
    "import numpy as np\n",
    "import collections\n",
    "from numpy import linalg as la"
   ]
  },
  {
   "cell_type": "markdown",
   "metadata": {},
   "source": [
    "### Load data"
   ]
  },
  {
   "cell_type": "code",
   "execution_count": 12,
   "metadata": {},
   "outputs": [],
   "source": [
    "data_folder = './data/'\n",
    "output_folder = './output/'\n",
    "\n",
    "data_path = data_folder + 'tw_hurricane_data.json'\n",
    "map_path = data_folder + 'tweet_document_ids_map.csv'\n",
    "\n",
    "\n",
    "with open(data_path) as df:\n",
    "    lines = df.readlines()"
   ]
  },
  {
   "cell_type": "code",
   "execution_count": 11,
   "metadata": {},
   "outputs": [
    {
     "name": "stdout",
     "output_type": "stream",
     "text": [
      "Total number of tweets: 4000\n"
     ]
    }
   ],
   "source": [
    "print(\"Total number of tweets: {}\".format(len(lines)))"
   ]
  },
  {
   "cell_type": "code",
   "execution_count": 13,
   "metadata": {},
   "outputs": [
    {
     "data": {
      "text/plain": [
       "'{\"created_at\": \"Fri Sep 30 18:39:08 +0000 2022\", \"id\": 1575918182698979328, \"id_str\": \"1575918182698979328\", \"full_text\": \"So this will keep spinning over us until 7 pm\\\\u2026go away already. #HurricaneIan https://t.co/VROTxNS9rz\", \"truncated\": false, \"display_text_range\": [0, 76], \"entities\": {\"hashtags\": [{\"text\": \"HurricaneIan\", \"indices\": [63, 76]}], \"symbols\": [], \"user_mentions\": [], \"urls\": [], \"media\": [{\"id\": 1575918178261254162, \"id_str\": \"1575918178261254162\", \"indices\": [77, 100], \"media_url\": \"http://pbs.twimg.com/media/Fd7JO8pXwBI9HPw.jpg\", \"media_url_https\": \"https://pbs.twimg.com/media/Fd7JO8pXwBI9HPw.jpg\", \"url\": \"https://t.co/VROTxNS9rz\", \"display_url\": \"pic.twitter.com/VROTxNS9rz\", \"expanded_url\": \"https://twitter.com/suzjdean/status/1575918182698979328/photo/1\", \"type\": \"photo\", \"sizes\": {\"small\": {\"w\": 521, \"h\": 680, \"resize\": \"fit\"}, \"thumb\": {\"w\": 150, \"h\": 150, \"resize\": \"crop\"}, \"medium\": {\"w\": 919, \"h\": 1200, \"resize\": \"fit\"}, \"large\": {\"w\": 1284, \"h\": 1677, \"resize\": \"fit\"}}}]}, \"extended_entities\": {\"media\": [{\"id\": 1575918178261254162, \"id_str\": \"1575918178261254162\", \"indices\": [77, 100], \"media_url\": \"http://pbs.twimg.com/media/Fd7JO8pXwBI9HPw.jpg\", \"media_url_https\": \"https://pbs.twimg.com/media/Fd7JO8pXwBI9HPw.jpg\", \"url\": \"https://t.co/VROTxNS9rz\", \"display_url\": \"pic.twitter.com/VROTxNS9rz\", \"expanded_url\": \"https://twitter.com/suzjdean/status/1575918182698979328/photo/1\", \"type\": \"photo\", \"sizes\": {\"small\": {\"w\": 521, \"h\": 680, \"resize\": \"fit\"}, \"thumb\": {\"w\": 150, \"h\": 150, \"resize\": \"crop\"}, \"medium\": {\"w\": 919, \"h\": 1200, \"resize\": \"fit\"}, \"large\": {\"w\": 1284, \"h\": 1677, \"resize\": \"fit\"}}}]}, \"metadata\": {\"iso_language_code\": \"en\", \"result_type\": \"recent\"}, \"source\": \"<a href=\\\\\"http://twitter.com/download/iphone\\\\\" rel=\\\\\"nofollow\\\\\">Twitter for iPhone</a>\", \"in_reply_to_status_id\": null, \"in_reply_to_status_id_str\": null, \"in_reply_to_user_id\": null, \"in_reply_to_user_id_str\": null, \"in_reply_to_screen_name\": null, \"user\": {\"id\": 28709505, \"id_str\": \"28709505\", \"name\": \"Suz\\\\ud83d\\\\udc7b\", \"screen_name\": \"suzjdean\", \"location\": \"Charleston, SC & DC\", \"description\": \"MY #NATS #Caps #gamecocks family! I stand with #Ukraine \\\\ud83c\\\\uddfa\\\\ud83c\\\\udde6 IG: sjdean74\", \"url\": null, \"entities\": {\"description\": {\"urls\": []}}, \"protected\": false, \"followers_count\": 3811, \"friends_count\": 2868, \"listed_count\": 74, \"created_at\": \"Sat Apr 04 01:35:19 +0000 2009\", \"favourites_count\": 320543, \"utc_offset\": null, \"time_zone\": null, \"geo_enabled\": true, \"verified\": false, \"statuses_count\": 165706, \"lang\": null, \"contributors_enabled\": false, \"is_translator\": false, \"is_translation_enabled\": false, \"profile_background_color\": \"0099B9\", \"profile_background_image_url\": \"http://abs.twimg.com/images/themes/theme4/bg.gif\", \"profile_background_image_url_https\": \"https://abs.twimg.com/images/themes/theme4/bg.gif\", \"profile_background_tile\": false, \"profile_image_url\": \"http://pbs.twimg.com/profile_images/1513709638323257351/NuehKDmA_normal.jpg\", \"profile_image_url_https\": \"https://pbs.twimg.com/profile_images/1513709638323257351/NuehKDmA_normal.jpg\", \"profile_banner_url\": \"https://pbs.twimg.com/profile_banners/28709505/1649038002\", \"profile_link_color\": \"0099B9\", \"profile_sidebar_border_color\": \"FFFFFF\", \"profile_sidebar_fill_color\": \"95E8EC\", \"profile_text_color\": \"3C3940\", \"profile_use_background_image\": true, \"has_extended_profile\": true, \"default_profile\": false, \"default_profile_image\": false, \"following\": false, \"follow_request_sent\": false, \"notifications\": false, \"translator_type\": \"none\", \"withheld_in_countries\": []}, \"geo\": null, \"coordinates\": null, \"place\": {\"id\": \"6057f1e35bcc6c20\", \"url\": \"https://api.twitter.com/1.1/geo/id/6057f1e35bcc6c20.json\", \"place_type\": \"admin\", \"name\": \"South Carolina\", \"full_name\": \"South Carolina, USA\", \"country_code\": \"US\", \"country\": \"United States\", \"contained_within\": [], \"bounding_box\": {\"type\": \"Polygon\", \"coordinates\": [[[-83.353955, 32.04683], [-78.499301, 32.04683], [-78.499301, 35.215449], [-83.353955, 35.215449]]]}, \"attributes\": {}}, \"contributors\": null, \"is_quote_status\": false, \"retweet_count\": 0, \"favorite_count\": 0, \"favorited\": false, \"retweeted\": false, \"possibly_sensitive\": false, \"lang\": \"en\"}\\n'"
      ]
     },
     "execution_count": 13,
     "metadata": {},
     "output_type": "execute_result"
    }
   ],
   "source": [
    "lines[0]"
   ]
  },
  {
   "cell_type": "code",
   "execution_count": 49,
   "metadata": {},
   "outputs": [
    {
     "name": "stdout",
     "output_type": "stream",
     "text": [
      "{'created_at': 'Fri Sep 30 18:39:08 +0000 2022', 'id': 1575918182698979328, 'id_str': '1575918182698979328', 'full_text': 'So this will keep spinning over us until 7 pm…go away already. #HurricaneIan https://t.co/VROTxNS9rz', 'truncated': False, 'display_text_range': [0, 76], 'entities': {'hashtags': [{'text': 'HurricaneIan', 'indices': [63, 76]}], 'symbols': [], 'user_mentions': [], 'urls': [], 'media': [{'id': 1575918178261254162, 'id_str': '1575918178261254162', 'indices': [77, 100], 'media_url': 'http://pbs.twimg.com/media/Fd7JO8pXwBI9HPw.jpg', 'media_url_https': 'https://pbs.twimg.com/media/Fd7JO8pXwBI9HPw.jpg', 'url': 'https://t.co/VROTxNS9rz', 'display_url': 'pic.twitter.com/VROTxNS9rz', 'expanded_url': 'https://twitter.com/suzjdean/status/1575918182698979328/photo/1', 'type': 'photo', 'sizes': {'small': {'w': 521, 'h': 680, 'resize': 'fit'}, 'thumb': {'w': 150, 'h': 150, 'resize': 'crop'}, 'medium': {'w': 919, 'h': 1200, 'resize': 'fit'}, 'large': {'w': 1284, 'h': 1677, 'resize': 'fit'}}}]}, 'extended_entities': {'media': [{'id': 1575918178261254162, 'id_str': '1575918178261254162', 'indices': [77, 100], 'media_url': 'http://pbs.twimg.com/media/Fd7JO8pXwBI9HPw.jpg', 'media_url_https': 'https://pbs.twimg.com/media/Fd7JO8pXwBI9HPw.jpg', 'url': 'https://t.co/VROTxNS9rz', 'display_url': 'pic.twitter.com/VROTxNS9rz', 'expanded_url': 'https://twitter.com/suzjdean/status/1575918182698979328/photo/1', 'type': 'photo', 'sizes': {'small': {'w': 521, 'h': 680, 'resize': 'fit'}, 'thumb': {'w': 150, 'h': 150, 'resize': 'crop'}, 'medium': {'w': 919, 'h': 1200, 'resize': 'fit'}, 'large': {'w': 1284, 'h': 1677, 'resize': 'fit'}}}]}, 'metadata': {'iso_language_code': 'en', 'result_type': 'recent'}, 'source': '<a href=\"http://twitter.com/download/iphone\" rel=\"nofollow\">Twitter for iPhone</a>', 'in_reply_to_status_id': None, 'in_reply_to_status_id_str': None, 'in_reply_to_user_id': None, 'in_reply_to_user_id_str': None, 'in_reply_to_screen_name': None, 'user': {'id': 28709505, 'id_str': '28709505', 'name': 'Suz👻', 'screen_name': 'suzjdean', 'location': 'Charleston, SC & DC', 'description': 'MY #NATS #Caps #gamecocks family! I stand with #Ukraine 🇺🇦 IG: sjdean74', 'url': None, 'entities': {'description': {'urls': []}}, 'protected': False, 'followers_count': 3811, 'friends_count': 2868, 'listed_count': 74, 'created_at': 'Sat Apr 04 01:35:19 +0000 2009', 'favourites_count': 320543, 'utc_offset': None, 'time_zone': None, 'geo_enabled': True, 'verified': False, 'statuses_count': 165706, 'lang': None, 'contributors_enabled': False, 'is_translator': False, 'is_translation_enabled': False, 'profile_background_color': '0099B9', 'profile_background_image_url': 'http://abs.twimg.com/images/themes/theme4/bg.gif', 'profile_background_image_url_https': 'https://abs.twimg.com/images/themes/theme4/bg.gif', 'profile_background_tile': False, 'profile_image_url': 'http://pbs.twimg.com/profile_images/1513709638323257351/NuehKDmA_normal.jpg', 'profile_image_url_https': 'https://pbs.twimg.com/profile_images/1513709638323257351/NuehKDmA_normal.jpg', 'profile_banner_url': 'https://pbs.twimg.com/profile_banners/28709505/1649038002', 'profile_link_color': '0099B9', 'profile_sidebar_border_color': 'FFFFFF', 'profile_sidebar_fill_color': '95E8EC', 'profile_text_color': '3C3940', 'profile_use_background_image': True, 'has_extended_profile': True, 'default_profile': False, 'default_profile_image': False, 'following': False, 'follow_request_sent': False, 'notifications': False, 'translator_type': 'none', 'withheld_in_countries': []}, 'geo': None, 'coordinates': None, 'place': {'id': '6057f1e35bcc6c20', 'url': 'https://api.twitter.com/1.1/geo/id/6057f1e35bcc6c20.json', 'place_type': 'admin', 'name': 'South Carolina', 'full_name': 'South Carolina, USA', 'country_code': 'US', 'country': 'United States', 'contained_within': [], 'bounding_box': {'type': 'Polygon', 'coordinates': [[[-83.353955, 32.04683], [-78.499301, 32.04683], [-78.499301, 35.215449], [-83.353955, 35.215449]]]}, 'attributes': {}}, 'contributors': None, 'is_quote_status': False, 'retweet_count': 0, 'favorite_count': 0, 'favorited': False, 'retweeted': False, 'possibly_sensitive': False, 'lang': 'en'}\n"
     ]
    }
   ],
   "source": [
    "import json\n",
    "\n",
    "t = json.loads(lines[0])"
   ]
  },
  {
   "cell_type": "code",
   "execution_count": 51,
   "metadata": {},
   "outputs": [
    {
     "data": {
      "text/plain": [
       "{'created_at': 'Fri Sep 30 18:39:08 +0000 2022',\n",
       " 'id': 1575918182698979328,\n",
       " 'id_str': '1575918182698979328',\n",
       " 'full_text': 'So this will keep spinning over us until 7 pm…go away already. #HurricaneIan https://t.co/VROTxNS9rz',\n",
       " 'truncated': False,\n",
       " 'display_text_range': [0, 76],\n",
       " 'entities': {'hashtags': [{'text': 'HurricaneIan', 'indices': [63, 76]}],\n",
       "  'symbols': [],\n",
       "  'user_mentions': [],\n",
       "  'urls': [],\n",
       "  'media': [{'id': 1575918178261254162,\n",
       "    'id_str': '1575918178261254162',\n",
       "    'indices': [77, 100],\n",
       "    'media_url': 'http://pbs.twimg.com/media/Fd7JO8pXwBI9HPw.jpg',\n",
       "    'media_url_https': 'https://pbs.twimg.com/media/Fd7JO8pXwBI9HPw.jpg',\n",
       "    'url': 'https://t.co/VROTxNS9rz',\n",
       "    'display_url': 'pic.twitter.com/VROTxNS9rz',\n",
       "    'expanded_url': 'https://twitter.com/suzjdean/status/1575918182698979328/photo/1',\n",
       "    'type': 'photo',\n",
       "    'sizes': {'small': {'w': 521, 'h': 680, 'resize': 'fit'},\n",
       "     'thumb': {'w': 150, 'h': 150, 'resize': 'crop'},\n",
       "     'medium': {'w': 919, 'h': 1200, 'resize': 'fit'},\n",
       "     'large': {'w': 1284, 'h': 1677, 'resize': 'fit'}}}]},\n",
       " 'extended_entities': {'media': [{'id': 1575918178261254162,\n",
       "    'id_str': '1575918178261254162',\n",
       "    'indices': [77, 100],\n",
       "    'media_url': 'http://pbs.twimg.com/media/Fd7JO8pXwBI9HPw.jpg',\n",
       "    'media_url_https': 'https://pbs.twimg.com/media/Fd7JO8pXwBI9HPw.jpg',\n",
       "    'url': 'https://t.co/VROTxNS9rz',\n",
       "    'display_url': 'pic.twitter.com/VROTxNS9rz',\n",
       "    'expanded_url': 'https://twitter.com/suzjdean/status/1575918182698979328/photo/1',\n",
       "    'type': 'photo',\n",
       "    'sizes': {'small': {'w': 521, 'h': 680, 'resize': 'fit'},\n",
       "     'thumb': {'w': 150, 'h': 150, 'resize': 'crop'},\n",
       "     'medium': {'w': 919, 'h': 1200, 'resize': 'fit'},\n",
       "     'large': {'w': 1284, 'h': 1677, 'resize': 'fit'}}}]},\n",
       " 'metadata': {'iso_language_code': 'en', 'result_type': 'recent'},\n",
       " 'source': '<a href=\"http://twitter.com/download/iphone\" rel=\"nofollow\">Twitter for iPhone</a>',\n",
       " 'in_reply_to_status_id': None,\n",
       " 'in_reply_to_status_id_str': None,\n",
       " 'in_reply_to_user_id': None,\n",
       " 'in_reply_to_user_id_str': None,\n",
       " 'in_reply_to_screen_name': None,\n",
       " 'user': {'id': 28709505,\n",
       "  'id_str': '28709505',\n",
       "  'name': 'Suz👻',\n",
       "  'screen_name': 'suzjdean',\n",
       "  'location': 'Charleston, SC & DC',\n",
       "  'description': 'MY #NATS #Caps #gamecocks family! I stand with #Ukraine 🇺🇦 IG: sjdean74',\n",
       "  'url': None,\n",
       "  'entities': {'description': {'urls': []}},\n",
       "  'protected': False,\n",
       "  'followers_count': 3811,\n",
       "  'friends_count': 2868,\n",
       "  'listed_count': 74,\n",
       "  'created_at': 'Sat Apr 04 01:35:19 +0000 2009',\n",
       "  'favourites_count': 320543,\n",
       "  'utc_offset': None,\n",
       "  'time_zone': None,\n",
       "  'geo_enabled': True,\n",
       "  'verified': False,\n",
       "  'statuses_count': 165706,\n",
       "  'lang': None,\n",
       "  'contributors_enabled': False,\n",
       "  'is_translator': False,\n",
       "  'is_translation_enabled': False,\n",
       "  'profile_background_color': '0099B9',\n",
       "  'profile_background_image_url': 'http://abs.twimg.com/images/themes/theme4/bg.gif',\n",
       "  'profile_background_image_url_https': 'https://abs.twimg.com/images/themes/theme4/bg.gif',\n",
       "  'profile_background_tile': False,\n",
       "  'profile_image_url': 'http://pbs.twimg.com/profile_images/1513709638323257351/NuehKDmA_normal.jpg',\n",
       "  'profile_image_url_https': 'https://pbs.twimg.com/profile_images/1513709638323257351/NuehKDmA_normal.jpg',\n",
       "  'profile_banner_url': 'https://pbs.twimg.com/profile_banners/28709505/1649038002',\n",
       "  'profile_link_color': '0099B9',\n",
       "  'profile_sidebar_border_color': 'FFFFFF',\n",
       "  'profile_sidebar_fill_color': '95E8EC',\n",
       "  'profile_text_color': '3C3940',\n",
       "  'profile_use_background_image': True,\n",
       "  'has_extended_profile': True,\n",
       "  'default_profile': False,\n",
       "  'default_profile_image': False,\n",
       "  'following': False,\n",
       "  'follow_request_sent': False,\n",
       "  'notifications': False,\n",
       "  'translator_type': 'none',\n",
       "  'withheld_in_countries': []},\n",
       " 'geo': None,\n",
       " 'coordinates': None,\n",
       " 'place': {'id': '6057f1e35bcc6c20',\n",
       "  'url': 'https://api.twitter.com/1.1/geo/id/6057f1e35bcc6c20.json',\n",
       "  'place_type': 'admin',\n",
       "  'name': 'South Carolina',\n",
       "  'full_name': 'South Carolina, USA',\n",
       "  'country_code': 'US',\n",
       "  'country': 'United States',\n",
       "  'contained_within': [],\n",
       "  'bounding_box': {'type': 'Polygon',\n",
       "   'coordinates': [[[-83.353955, 32.04683],\n",
       "     [-78.499301, 32.04683],\n",
       "     [-78.499301, 35.215449],\n",
       "     [-83.353955, 35.215449]]]},\n",
       "  'attributes': {}},\n",
       " 'contributors': None,\n",
       " 'is_quote_status': False,\n",
       " 'retweet_count': 0,\n",
       " 'favorite_count': 0,\n",
       " 'favorited': False,\n",
       " 'retweeted': False,\n",
       " 'possibly_sensitive': False,\n",
       " 'lang': 'en'}"
      ]
     },
     "execution_count": 51,
     "metadata": {},
     "output_type": "execute_result"
    }
   ],
   "source": [
    "t"
   ]
  },
  {
   "cell_type": "code",
   "execution_count": 67,
   "metadata": {},
   "outputs": [
    {
     "name": "stdout",
     "output_type": "stream",
     "text": [
      "Output format: Tweet | Username | Date | Hashtags | Likes | Retweets | Url\n",
      "\n",
      "Tweet : full_text : \t\t\t'So this will keep spinning over us until 7 pm…go away already. #HurricaneIan https://t.co/VROTxNS9rz'\n",
      "Username : user.name : \t\t\tSuz👻\n",
      "Date : created_at : \t\t\tFri Sep 30 18:39:08 +0000 2022\n",
      "Hashtags : entities.hashtags.text : \tHurricaneIan\n",
      "Likes : favorite_count : \t\t0\n",
      "Retweets : retweet_count : \t\t0\n",
      "Url : entities.media.url : \t\thttps://t.co/VROTxNS9rz\n",
      "\n",
      "Tweet : full_text : \t\t\t'Our hearts go out to all those affected by #HurricaneIan. We wish everyone on the roads currently braving the conditions safe travels. 💙'\n",
      "Username : user.name : \t\t\tLytx\n",
      "Date : created_at : \t\t\tFri Sep 30 18:39:01 +0000 2022\n",
      "Hashtags : entities.hashtags.text : \tHurricaneIan\n",
      "Likes : favorite_count : \t\t0\n",
      "Retweets : retweet_count : \t\t0\n",
      "Url : entities.media.url : \t\tnull\n",
      "\n",
      "Tweet : full_text : \t\t\t'Kissimmee neighborhood off of Michigan Ave. \\n#HurricaneIan https://t.co/jf7zseg0Fe'\n",
      "Username : user.name : \t\t\tChristopher Heath\n",
      "Date : created_at : \t\t\tFri Sep 30 18:38:58 +0000 2022\n",
      "Hashtags : entities.hashtags.text : \tHurricaneIan\n",
      "Likes : favorite_count : \t\t0\n",
      "Retweets : retweet_count : \t\t0\n",
      "Url : entities.media.url : \t\thttps://t.co/jf7zseg0Fe\n",
      "\n",
      "Tweet : full_text : \t\t\t'I have this one tree in my backyard that scares me more than the poltergeist tree when it’s storming and windy like this. #scwx #HurricaneIan'\n",
      "Username : user.name : \t\t\talex ✨\n",
      "Date : created_at : \t\t\tFri Sep 30 18:38:57 +0000 2022\n",
      "Hashtags : entities.hashtags.text : \tscwx\n",
      "Likes : favorite_count : \t\t0\n",
      "Retweets : retweet_count : \t\t0\n",
      "Url : entities.media.url : \t\tnull\n",
      "\n"
     ]
    }
   ],
   "source": [
    "# Output format: Tweet | Username | Date | Hashtags | Likes | Retweets | Url\n",
    "print('Output format: Tweet | Username | Date | Hashtags | Likes | Retweets | Url\\n')\n",
    "\n",
    "for i in range(4):\n",
    "    tweet = json.loads(lines[i])\n",
    "\n",
    "    print('Tweet : full_text : \\t\\t\\t' + repr(tweet['full_text']))\n",
    "    print('Username : user.name : \\t\\t\\t{}'.format(tweet['user']['name']))\n",
    "    print('Date : created_at : \\t\\t\\t{}'.format(tweet['created_at']))\n",
    "    print('Hashtags : entities.hashtags.text : \\t{}'.format(tweet['entities']['hashtags'][0]['text']))\n",
    "    print('Likes : favorite_count : \\t\\t{}'.format(tweet['favorite_count']))\n",
    "    print('Retweets : retweet_count : \\t\\t{}'.format(tweet['retweet_count']))\n",
    "    try:\n",
    "        print('Url : entities.media.url : \\t\\t{}\\n'.format(tweet['entities']['media'][0]['url']))\n",
    "    except:\n",
    "        print('Url : entities.media.url : \\t\\tnull\\n')"
   ]
  },
  {
   "cell_type": "code",
   "execution_count": null,
   "metadata": {},
   "outputs": [],
   "source": []
  }
 ],
 "metadata": {
  "kernelspec": {
   "display_name": "Python 3.10.5 64-bit",
   "language": "python",
   "name": "python3"
  },
  "language_info": {
   "codemirror_mode": {
    "name": "ipython",
    "version": 3
   },
   "file_extension": ".py",
   "mimetype": "text/x-python",
   "name": "python",
   "nbconvert_exporter": "python",
   "pygments_lexer": "ipython3",
   "version": "3.10.5"
  },
  "orig_nbformat": 4,
  "vscode": {
   "interpreter": {
    "hash": "369f2c481f4da34e4445cda3fffd2e751bd1c4d706f27375911949ba6bb62e1c"
   }
  }
 },
 "nbformat": 4,
 "nbformat_minor": 2
}
