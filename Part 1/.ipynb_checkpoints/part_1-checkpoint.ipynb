{
 "cells": [
  {
   "cell_type": "code",
   "execution_count": 1,
   "metadata": {},
   "outputs": [
    {
     "name": "stderr",
     "output_type": "stream",
     "text": [
      "[nltk_data] Downloading package stopwords to\n",
      "[nltk_data]     C:\\Users\\disni\\AppData\\Roaming\\nltk_data...\n",
      "[nltk_data]   Package stopwords is already up-to-date!\n",
      "[nltk_data] Downloading package punkt to\n",
      "[nltk_data]     C:\\Users\\disni\\AppData\\Roaming\\nltk_data...\n",
      "[nltk_data]   Unzipping tokenizers\\punkt.zip.\n"
     ]
    }
   ],
   "source": [
    "from collections import defaultdict\n",
    "from array import array\n",
    "import nltk\n",
    "nltk.download('stopwords')\n",
    "nltk.download('punkt')\n",
    "from nltk.stem import PorterStemmer\n",
    "from nltk.corpus import stopwords\n",
    "from nltk.tokenize import word_tokenize\n",
    "import math\n",
    "import numpy as np\n",
    "import collections\n",
    "from numpy import linalg as la\n",
    "import json\n",
    "import random\n",
    "import re"
   ]
  },
  {
   "cell_type": "code",
   "execution_count": 2,
   "metadata": {},
   "outputs": [
    {
     "name": "stdout",
     "output_type": "stream",
     "text": [
      "Total number of tweets read: 4000\n"
     ]
    }
   ],
   "source": [
    "data_folder = './data/'\n",
    "output_folder = './output/'\n",
    "\n",
    "data_path = data_folder + 'tw_hurricane_data.json'\n",
    "map_path = data_folder + 'tweet_document_ids_map.csv'\n",
    "\n",
    "\n",
    "with open(data_path) as file:\n",
    "    lines = file.readlines()\n",
    "    \n",
    "print(\"Total number of tweets read: {}\".format(len(lines)))\n",
    "\n",
    "lines = [json.loads(line) for line in lines]"
   ]
  },
  {
   "cell_type": "code",
   "execution_count": 3,
   "metadata": {},
   "outputs": [],
   "source": [
    "def clean(text):\n",
    "    stemmer = PorterStemmer()\n",
    "    stop_words = set(stopwords.words(\"english\"))\n",
    "    text = text.lower()\n",
    "    text = word_tokenize(text)\n",
    "    text = [token for token in text if token.isalpha()]\n",
    "    text = [x for x in text if x not in stop_words]  \n",
    "    text = [stemmer.stem(x) for x in text]\n",
    "    \n",
    "    return text"
   ]
  },
  {
   "cell_type": "code",
   "execution_count": 4,
   "metadata": {},
   "outputs": [],
   "source": [
    "def feature_extraction(tweet_line):\n",
    "    tweet = {}\n",
    "    tweet['text'] = tweet_line['full_text']\n",
    "    tweet['username'] = tweet_line['user']['screen_name']\n",
    "    tweet['date'] = tweet_line['created_at']\n",
    "    tweet['hashtags'] = [x['text'] for x in tweet_line['entities']['hashtags']]\n",
    "    tweet['mentions'] = re.findall(\"@([a-zA-Z0-9_]{1,50})\", tweet['text'])\n",
    "    tweet['likes'] = tweet_line['favorite_count']\n",
    "    tweet['retweets'] = tweet_line['retweet_count']\n",
    "    tweet['url'] = 'https://twitter.com/'+tweet['username']+'/status/'+tweet_line['id_str']\n",
    "    tweet['tk_text'] = clean(tweet_line['full_text'])\n",
    "    \n",
    "    return tweet"
   ]
  },
  {
   "cell_type": "code",
   "execution_count": 9,
   "metadata": {},
   "outputs": [
    {
     "name": "stdout",
     "output_type": "stream",
     "text": [
      "Default tweet: \t'One of the little refugees from the storm now has a new home thanks to Tampa PD! \\n\\nhttps://t.co/ifPpUuOwWs\\n\\n#DoveNews @TampaPD\\xa0#hurricaneian #Stormie #Tampa #catsoftwitter #adoptdontshop #cats https://t.co/m90hIEuiY6'\n",
      "Clean Tweet: \t['one', 'littl', 'refuge', 'storm', 'new', 'home', 'thank', 'tampa', 'pd', 'http', 'dovenew', 'tampapd', 'hurricaneian', 'stormi', 'tampa', 'catsoftwitt', 'adoptdontshop', 'cat', 'http']\n",
      "Username: \t1055TheDove\n",
      "Date: \t\tFri Sep 30 17:20:01 +0000 2022\n",
      "Hashtags: \t['DoveNews', 'hurricaneian', 'Stormie', 'Tampa', 'catsoftwitter', 'adoptdontshop', 'cats']\n",
      "Mentions: \t['TampaPD']\n",
      "Likes: \t\t3\n",
      "Retweets: \t1\n",
      "Url: \t\thttps://twitter.com/1055TheDove/status/1575898272098619392\n",
      "\n"
     ]
    }
   ],
   "source": [
    "l = random.randint(0, len(lines)-1)\n",
    "new_tweet = feature_extraction(lines[l])\n",
    "\n",
    "print('Default tweet: \\t' + repr(new_tweet['text']))\n",
    "print('Clean Tweet: \\t{}'.format(new_tweet['tk_text']))\n",
    "print('Username: \\t{}'.format(new_tweet['username']))\n",
    "print('Date: \\t\\t{}'.format(new_tweet['date']))\n",
    "print('Hashtags: \\t{}'.format(new_tweet['hashtags']))\n",
    "print('Mentions: \\t{}'.format(new_tweet['mentions']))\n",
    "print('Likes: \\t\\t{}'.format(new_tweet['likes']))\n",
    "print('Retweets: \\t{}'.format(new_tweet['retweets']))\n",
    "print('Url: \\t\\t{}\\n'.format(new_tweet['url']))\n"
   ]
  },
  {
   "cell_type": "code",
   "execution_count": null,
   "metadata": {},
   "outputs": [],
   "source": []
  }
 ],
 "metadata": {
  "kernelspec": {
   "display_name": "Python 3",
   "language": "python",
   "name": "python3"
  },
  "language_info": {
   "codemirror_mode": {
    "name": "ipython",
    "version": 3
   },
   "file_extension": ".py",
   "mimetype": "text/x-python",
   "name": "python",
   "nbconvert_exporter": "python",
   "pygments_lexer": "ipython3",
   "version": "3.7.6"
  },
  "vscode": {
   "interpreter": {
    "hash": "369f2c481f4da34e4445cda3fffd2e751bd1c4d706f27375911949ba6bb62e1c"
   }
  }
 },
 "nbformat": 4,
 "nbformat_minor": 4
}
