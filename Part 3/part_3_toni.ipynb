{
 "cells": [
  {
   "cell_type": "markdown",
   "metadata": {},
   "source": [
    "**TO_DOs**:\n",
    "1. Repasar que el `bm25` funcione bien (mirar cómo se calcula pa cada doc e ir printeando los parámetros que usa y verificar que todo esté bien). Pd: el ranking ya funciona pero eso no quiere decir que no la haya liado en un parámetro o dos.\n",
    "2. Create \"our own score\" --> qué putas\n",
    "3. Cuando hagamos el print_top_20 pa comparar molaría tunear un poco el código pa que fuese aun más \"visualmente comparable\". Ahora mismo está simplemente en dos celdas separadas y es poco comparable.\n",
    "1000. Report-> explicar que hemos reutilizado código para el bm25 pero que necesitabamos cosas nuevas y que por eso hemos creado un diccionario docu_length y el lavg etc. Explicar que hemos usado k1=1.6 y b=0.75 que lo ponia en la teoria. Y que vemos claramente que tiene más en cuenta docu_length que el tf-idf y que para nosotros es mejor."
   ]
  },
  {
   "cell_type": "code",
   "execution_count": 1,
   "metadata": {},
   "outputs": [],
   "source": [
    "# ----------------------------------------------------------------------------------- #\n",
    "# SON LOS IMPORTS DEL LAB ANTERIOR, LOS DESCOMENTAMOS A MEDIDA QUE LOS VAYAMOS USANDO #\n",
    "# ----------------------------------------------------------------------------------- #\n",
    "\n",
    "# from collections import defaultdict\n",
    "from array import array\n",
    "import nltk\n",
    "#nltk.download('stopwords')\n",
    "# # nltk.download('punkt')\n",
    "from nltk.stem import PorterStemmer\n",
    "from nltk.corpus import stopwords\n",
    "from nltk.tokenize import word_tokenize\n",
    "from collections import defaultdict\n",
    "import math\n",
    "import numpy as np\n",
    "import collections\n",
    "from numpy import linalg as la\n",
    "# import json\n",
    "# import random\n",
    "# import re\n",
    "import pandas as pd\n",
    "import time"
   ]
  },
  {
   "cell_type": "markdown",
   "metadata": {},
   "source": [
    "### Loading the processed tweets"
   ]
  },
  {
   "cell_type": "code",
   "execution_count": 2,
   "metadata": {},
   "outputs": [
    {
     "data": {
      "text/html": [
       "<div>\n",
       "<style scoped>\n",
       "    .dataframe tbody tr th:only-of-type {\n",
       "        vertical-align: middle;\n",
       "    }\n",
       "\n",
       "    .dataframe tbody tr th {\n",
       "        vertical-align: top;\n",
       "    }\n",
       "\n",
       "    .dataframe thead th {\n",
       "        text-align: right;\n",
       "    }\n",
       "</style>\n",
       "<table border=\"1\" class=\"dataframe\">\n",
       "  <thead>\n",
       "    <tr style=\"text-align: right;\">\n",
       "      <th></th>\n",
       "      <th>Document</th>\n",
       "      <th>Id</th>\n",
       "      <th>Text</th>\n",
       "      <th>Username</th>\n",
       "      <th>Date</th>\n",
       "      <th>Hashtags</th>\n",
       "      <th>Mentions</th>\n",
       "      <th>Likes</th>\n",
       "      <th>Retweets</th>\n",
       "      <th>Url</th>\n",
       "      <th>Clean_text</th>\n",
       "    </tr>\n",
       "  </thead>\n",
       "  <tbody>\n",
       "    <tr>\n",
       "      <th>0</th>\n",
       "      <td>doc_1</td>\n",
       "      <td>1575918182698979328</td>\n",
       "      <td>So this will keep spinning over us until 7 pm…...</td>\n",
       "      <td>suzjdean</td>\n",
       "      <td>Fri Sep 30 18:39:08 +0000 2022</td>\n",
       "      <td>['HurricaneIan']</td>\n",
       "      <td>NaN</td>\n",
       "      <td>0</td>\n",
       "      <td>0</td>\n",
       "      <td>https://twitter.com/suzjdean/status/1575918182...</td>\n",
       "      <td>['keep', 'spin', 'us', 'away', 'alreadi', 'hur...</td>\n",
       "    </tr>\n",
       "    <tr>\n",
       "      <th>1</th>\n",
       "      <td>doc_2</td>\n",
       "      <td>1575918151862304768</td>\n",
       "      <td>Our hearts go out to all those affected by #Hu...</td>\n",
       "      <td>lytx</td>\n",
       "      <td>Fri Sep 30 18:39:01 +0000 2022</td>\n",
       "      <td>['HurricaneIan']</td>\n",
       "      <td>NaN</td>\n",
       "      <td>0</td>\n",
       "      <td>0</td>\n",
       "      <td>https://twitter.com/lytx/status/15759181518623...</td>\n",
       "      <td>['heart', 'go', 'affect', 'hurricaneian', 'wis...</td>\n",
       "    </tr>\n",
       "  </tbody>\n",
       "</table>\n",
       "</div>"
      ],
      "text/plain": [
       "  Document                   Id  \\\n",
       "0    doc_1  1575918182698979328   \n",
       "1    doc_2  1575918151862304768   \n",
       "\n",
       "                                                Text  Username  \\\n",
       "0  So this will keep spinning over us until 7 pm…...  suzjdean   \n",
       "1  Our hearts go out to all those affected by #Hu...      lytx   \n",
       "\n",
       "                             Date          Hashtags Mentions  Likes  Retweets  \\\n",
       "0  Fri Sep 30 18:39:08 +0000 2022  ['HurricaneIan']      NaN      0         0   \n",
       "1  Fri Sep 30 18:39:01 +0000 2022  ['HurricaneIan']      NaN      0         0   \n",
       "\n",
       "                                                 Url  \\\n",
       "0  https://twitter.com/suzjdean/status/1575918182...   \n",
       "1  https://twitter.com/lytx/status/15759181518623...   \n",
       "\n",
       "                                          Clean_text  \n",
       "0  ['keep', 'spin', 'us', 'away', 'alreadi', 'hur...  \n",
       "1  ['heart', 'go', 'affect', 'hurricaneian', 'wis...  "
      ]
     },
     "execution_count": 2,
     "metadata": {},
     "output_type": "execute_result"
    }
   ],
   "source": [
    "output_folder = '../output/'\n",
    "data_folder = '../data/'\n",
    "data = pd.read_csv(output_folder + \"lab1_tweets_df.csv\", sep='|')\n",
    "data.head(2)"
   ]
  },
  {
   "cell_type": "markdown",
   "metadata": {},
   "source": [
    "# Indexing"
   ]
  },
  {
   "cell_type": "markdown",
   "metadata": {},
   "source": [
    "## 1. Build inverted index"
   ]
  },
  {
   "cell_type": "code",
   "execution_count": 3,
   "metadata": {},
   "outputs": [],
   "source": [
    "def build_terms(line):\n",
    "    \"\"\"\n",
    "    Preprocess the article text (title + body) removing stop words, stemming,\n",
    "    transforming in lowercase and return the tokens of the text.\n",
    "    \n",
    "    Argument:\n",
    "    line -- string (text) to be preprocessed\n",
    "    \n",
    "    Returns:\n",
    "    line - a list of tokens corresponding to the input text after the preprocessing\n",
    "    \"\"\"\n",
    "\n",
    "    stemmer = PorterStemmer()\n",
    "    stop_words = set(stopwords.words(\"english\"))\n",
    "    ## START CODE\n",
    "    line=  line.lower() ## Transform in lowercase\n",
    "    line=  line.split() ## Tokenize the text to get a list of terms\n",
    "    line= [x for x in line if x not in stop_words]  ##eliminate the stopwords (HINT: use List Comprehension)\n",
    "    line= [stemmer.stem(x) for x in line] ## perform stemming (HINT: use List Comprehension)\n",
    "    ## END CODE\n",
    "    return line"
   ]
  },
  {
   "cell_type": "code",
   "execution_count": 4,
   "metadata": {},
   "outputs": [],
   "source": [
    "def create_index_tfidf(dataframe):\n",
    "    \"\"\"\n",
    "    Implement the inverted index and compute tf, df and idf\n",
    "    \n",
    "    Argument:\n",
    "    dataframe -- DataFrame containing tweet information\n",
    "    \n",
    "    Returns:\n",
    "    index - the inverted index (implemented through a Python dictionary) containing terms as keys and the corresponding\n",
    "    list of document these keys appears in (and the positions) as values.\n",
    "    tf - normalized term frequency for each term in each document\n",
    "    df - number of documents each term appear in\n",
    "    idf - inverse document frequency of each term\n",
    "    \"\"\"\n",
    "    num_documents = dataframe.shape[0]\n",
    "    index = defaultdict(list)\n",
    "    tf = defaultdict(list)  # term frequencies of terms in documents (documents in the same order as in the main index)\n",
    "    df = defaultdict(int)   # document frequencies of terms in the corpus\n",
    "    idf = defaultdict(float)\n",
    "    for row in dataframe.iterrows():\n",
    "        doc_id = row[1]['Document']\n",
    "        terms = row[1]['Clean_text']  \n",
    "        terms = eval(terms)\n",
    "        \n",
    "        ## ===============================================================        \n",
    "        ## create the index for the **current page** and store it in current_page_index\n",
    "        ## current_page_index ==> { ‘term1’: [current_doc, [list of positions]], ...,‘term_n’: [current_doc, [list of positions]]}\n",
    "\n",
    "        ## Example: if the curr_doc has id 1 and his text is \n",
    "        ##\"web retrieval information retrieval\":\n",
    "\n",
    "        ## current_page_index ==> { ‘web’: [1, [0]], ‘retrieval’: [1, [1,4]], ‘information’: [1, [2]]}\n",
    "\n",
    "        ## the term ‘web’ appears in document 1 in positions 0, \n",
    "        ## the term ‘retrieval’ appears in document 1 in positions 1 and 4\n",
    "        ## ===============================================================\n",
    "\n",
    "        current_page_index = {}\n",
    "\n",
    "        for position, term in enumerate(terms):  ## terms contains page_title + page_text\n",
    "            try:\n",
    "                # if the term is already in the dict append the position to the corresponding list\n",
    "                current_page_index[term][1].append(position) \n",
    "            except:\n",
    "                # Add the new term as dict key and initialize the array of positions and add the position\n",
    "                current_page_index[term]=[doc_id, [position]]\n",
    "                \n",
    "        #normalize term frequencies\n",
    "        # Compute the denominator to normalize term frequencies (formula 2 above)\n",
    "        # norm is the same for all terms of a document.\n",
    "        norm = 0\n",
    "        for term, posting in current_page_index.items():\n",
    "            # posting will contain the list of positions for current term in current document. \n",
    "            # posting ==> [current_doc, [list of positions]] \n",
    "            # you can use it to infer the frequency of current term.\n",
    "            norm += len(posting[1]) ** 2\n",
    "        norm = math.sqrt(norm)\n",
    "\n",
    "        # calculate the tf(dividing the term frequency by the above computed norm) and df weights\n",
    "        for term, posting in current_page_index.items():\n",
    "            # append the tf for current term (tf = term frequency in current doc/norm)\n",
    "            tf[term].append(np.round(len(posting[1])/norm,4)) ## SEE formula (1) above\n",
    "            #increment the document frequency of current term (number of documents containing the current term)\n",
    "            df[term] = df[term]+1 # increment DF for current term\n",
    "\n",
    "        #merge the current page index with the main index\n",
    "        for term_page, posting_page in current_page_index.items():\n",
    "            index[term_page].append(posting_page)\n",
    "\n",
    "        # Compute IDF following the formula (3) above. HINT: use np.log\n",
    "        for term in df:\n",
    "            idf[term] = np.round(np.log(float(num_documents/df[term])), 4)\n",
    "\n",
    "    return index, tf, df, idf\n"
   ]
  },
  {
   "cell_type": "code",
   "execution_count": 5,
   "metadata": {},
   "outputs": [
    {
     "name": "stdout",
     "output_type": "stream",
     "text": [
      "Total time to create the index: 200.44 seconds\n"
     ]
    }
   ],
   "source": [
    "start_time = time.time()\n",
    "new_index, tf, df, idf = create_index_tfidf(data)\n",
    "print(\"Total time to create the index: {} seconds\" .format(np.round(time.time() - start_time, 2)))"
   ]
  },
  {
   "cell_type": "markdown",
   "metadata": {},
   "source": [
    "## 2. Test queries"
   ]
  },
  {
   "cell_type": "markdown",
   "metadata": {},
   "source": [
    "### Words analysis in the collection:"
   ]
  },
  {
   "cell_type": "code",
   "execution_count": 6,
   "metadata": {},
   "outputs": [
    {
     "data": {
      "text/html": [
       "<div>\n",
       "<style scoped>\n",
       "    .dataframe tbody tr th:only-of-type {\n",
       "        vertical-align: middle;\n",
       "    }\n",
       "\n",
       "    .dataframe tbody tr th {\n",
       "        vertical-align: top;\n",
       "    }\n",
       "\n",
       "    .dataframe thead th {\n",
       "        text-align: right;\n",
       "    }\n",
       "</style>\n",
       "<table border=\"1\" class=\"dataframe\">\n",
       "  <thead>\n",
       "    <tr style=\"text-align: right;\">\n",
       "      <th></th>\n",
       "      <th>Word</th>\n",
       "      <th>DF</th>\n",
       "    </tr>\n",
       "  </thead>\n",
       "  <tbody>\n",
       "    <tr>\n",
       "      <th>5</th>\n",
       "      <td>hurricaneian</td>\n",
       "      <td>3988</td>\n",
       "    </tr>\n",
       "    <tr>\n",
       "      <th>72</th>\n",
       "      <td>florida</td>\n",
       "      <td>881</td>\n",
       "    </tr>\n",
       "    <tr>\n",
       "      <th>47</th>\n",
       "      <td>hurrican</td>\n",
       "      <td>793</td>\n",
       "    </tr>\n",
       "    <tr>\n",
       "      <th>70</th>\n",
       "      <td>ian</td>\n",
       "      <td>781</td>\n",
       "    </tr>\n",
       "    <tr>\n",
       "      <th>211</th>\n",
       "      <td>help</td>\n",
       "      <td>386</td>\n",
       "    </tr>\n",
       "    <tr>\n",
       "      <th>122</th>\n",
       "      <td>amp</td>\n",
       "      <td>362</td>\n",
       "    </tr>\n",
       "    <tr>\n",
       "      <th>25</th>\n",
       "      <td>storm</td>\n",
       "      <td>352</td>\n",
       "    </tr>\n",
       "    <tr>\n",
       "      <th>87</th>\n",
       "      <td>carolina</td>\n",
       "      <td>297</td>\n",
       "    </tr>\n",
       "    <tr>\n",
       "      <th>303</th>\n",
       "      <td>flood</td>\n",
       "      <td>289</td>\n",
       "    </tr>\n",
       "    <tr>\n",
       "      <th>293</th>\n",
       "      <td>power</td>\n",
       "      <td>275</td>\n",
       "    </tr>\n",
       "    <tr>\n",
       "      <th>86</th>\n",
       "      <td>south</td>\n",
       "      <td>260</td>\n",
       "    </tr>\n",
       "    <tr>\n",
       "      <th>77</th>\n",
       "      <td>make</td>\n",
       "      <td>251</td>\n",
       "    </tr>\n",
       "    <tr>\n",
       "      <th>78</th>\n",
       "      <td>landfal</td>\n",
       "      <td>245</td>\n",
       "    </tr>\n",
       "    <tr>\n",
       "      <th>109</th>\n",
       "      <td>wind</td>\n",
       "      <td>238</td>\n",
       "    </tr>\n",
       "    <tr>\n",
       "      <th>48</th>\n",
       "      <td>damag</td>\n",
       "      <td>231</td>\n",
       "    </tr>\n",
       "    <tr>\n",
       "      <th>258</th>\n",
       "      <td>peopl</td>\n",
       "      <td>229</td>\n",
       "    </tr>\n",
       "    <tr>\n",
       "      <th>15</th>\n",
       "      <td>safe</td>\n",
       "      <td>219</td>\n",
       "    </tr>\n",
       "    <tr>\n",
       "      <th>388</th>\n",
       "      <td>get</td>\n",
       "      <td>216</td>\n",
       "    </tr>\n",
       "    <tr>\n",
       "      <th>309</th>\n",
       "      <td>impact</td>\n",
       "      <td>214</td>\n",
       "    </tr>\n",
       "    <tr>\n",
       "      <th>7</th>\n",
       "      <td>go</td>\n",
       "      <td>210</td>\n",
       "    </tr>\n",
       "  </tbody>\n",
       "</table>\n",
       "</div>"
      ],
      "text/plain": [
       "             Word    DF\n",
       "5    hurricaneian  3988\n",
       "72        florida   881\n",
       "47       hurrican   793\n",
       "70            ian   781\n",
       "211          help   386\n",
       "122           amp   362\n",
       "25          storm   352\n",
       "87       carolina   297\n",
       "303         flood   289\n",
       "293         power   275\n",
       "86          south   260\n",
       "77           make   251\n",
       "78        landfal   245\n",
       "109          wind   238\n",
       "48          damag   231\n",
       "258         peopl   229\n",
       "15           safe   219\n",
       "388           get   216\n",
       "309        impact   214\n",
       "7              go   210"
      ]
     },
     "execution_count": 6,
     "metadata": {},
     "output_type": "execute_result"
    }
   ],
   "source": [
    "## ============================= ##\n",
    "## show top DF in the collection ##\n",
    "## ============================= ##\n",
    "\n",
    "word = []\n",
    "word_df = []\n",
    "for item in df.items():\n",
    "    word.append(item[0])\n",
    "    word_df.append(item[1])\n",
    "\n",
    "document_frequency_df = pd.DataFrame(list(zip(word,word_df)), columns=['Word', 'DF'])\n",
    "document_frequency_df.sort_values(by='DF', ascending=False).head(20)"
   ]
  },
  {
   "cell_type": "markdown",
   "metadata": {},
   "source": [
    "Based docuemnt frequency of the terms above, we define the following queries for our test cases: "
   ]
  },
  {
   "cell_type": "code",
   "execution_count": 7,
   "metadata": {},
   "outputs": [],
   "source": [
    "queries = [\n",
    "    \"Floodings in South Carolina\", \n",
    "    \"HurracaineIan disaster\", \n",
    "    \"Damage of HuracaineIan\", \n",
    "    \"Florida floodings\", \n",
    "    \"Storm and wind in Florida\"\n",
    "]"
   ]
  },
  {
   "cell_type": "markdown",
   "metadata": {},
   "source": [
    "## 3. Ranking"
   ]
  },
  {
   "cell_type": "markdown",
   "metadata": {},
   "source": [
    "New **function** `BestMatch25`:\n",
    "\n",
    "Formula: $RSV_d = \\sum_{t \\in q} log [\\frac{N}{dft}] * \\frac{(k+1)*tf_{td}}{k1*((1-b) + b*(\\frac{L_d}{L_{ave}}) ) + tfd} $"
   ]
  },
  {
   "cell_type": "markdown",
   "metadata": {},
   "source": [
    "Because we will need Ld and Lavg, we will build a dictionnary with documents and their corresponding lenghts, and with it we will calculate Lave."
   ]
  },
  {
   "cell_type": "code",
   "execution_count": 13,
   "metadata": {},
   "outputs": [],
   "source": [
    "docu_length = dict()\n",
    "for index, row in data.iterrows():\n",
    "    docu_length[row['Document']] = len(eval(row['Clean_text']))"
   ]
  },
  {
   "cell_type": "code",
   "execution_count": 14,
   "metadata": {},
   "outputs": [
    {
     "name": "stdout",
     "output_type": "stream",
     "text": [
      "15\n"
     ]
    }
   ],
   "source": [
    "lavg = 0\n",
    "for length in docu_length.values():\n",
    "    lavg += length\n",
    "lavg = round(lavg / len(docu_length))\n",
    "print(lavg)"
   ]
  },
  {
   "cell_type": "code",
   "execution_count": 113,
   "metadata": {},
   "outputs": [
    {
     "name": "stdout",
     "output_type": "stream",
     "text": [
      "a\n"
     ]
    }
   ],
   "source": [
    "if len(new_index['hurracaineian'])==0:\n",
    "    print(\"a\")\n",
    "else:\n",
    "    print(new_index['hurracaineian'])"
   ]
  },
  {
   "cell_type": "code",
   "execution_count": 169,
   "metadata": {},
   "outputs": [
    {
     "data": {
      "text/plain": [
       "6.4"
      ]
     },
     "execution_count": 169,
     "metadata": {},
     "output_type": "execute_result"
    }
   ],
   "source": [
    "a = [1,2,3, 0.4]\n",
    "np.sum(a)"
   ]
  },
  {
   "cell_type": "code",
   "execution_count": 182,
   "metadata": {},
   "outputs": [],
   "source": [
    "def rank_documents_bm25 (terms, docs, index, idf, tf, k1, b, N, docu_length, lavg):\n",
    "    \"\"\"\n",
    "    Perform the ranking of the results of a search based on the tf-idf weights\n",
    "    \n",
    "    Argument:\n",
    "    terms -- list of query terms\n",
    "    docs -- list of documents, to rank, matching the query\n",
    "    index -- inverted index data structure\n",
    "    idf -- inverted document frequencies\n",
    "    tf -- term frequencies\n",
    "    \n",
    "    Returns:\n",
    "    list of ranked documents\n",
    "    \"\"\"\n",
    "\n",
    "    # I'm interested only on the element of the docVector corresponding to the query terms \n",
    "    # The remaining elements would became 0 when multiplied to the query_vector\n",
    "    doc_vectors = defaultdict(lambda: [0] * len(terms)) # I call doc_vectors[k] for a nonexistent key k, the key-value pair (k,[0]*len(terms)) will be automatically added to the dictionary\n",
    "\n",
    "\n",
    "    for termIndex, term in enumerate(terms):  #termIndex is the index of the term in the query\n",
    "        if len(index[term])==0:\n",
    "            continue\n",
    "        \n",
    "        # Generate doc_vectors for matching docs\n",
    "        for doc_index, (doc, postings) in enumerate(index[term]):\n",
    "            #tf[term][0] will contain the tf of the term \"term\" in the doc 26            \n",
    "            if doc in docs:\n",
    "                dft = len(index[term]) #in how many documents does it appear\n",
    "                ld = docu_length[doc] #document length\n",
    "                doc_vectors[doc][termIndex] = np.log(N/dft) * (((k1+1)*tf[term][doc_index]) / (k1*((1-b)+b*( ld / lavg ) ) + tf[term][doc_index]))\n",
    "    \n",
    "    # Calculate the score of each doc (the sum of the results blablabla)    \n",
    "    doc_scores=[[np.sum(curDocVec), doc] for doc, curDocVec in doc_vectors.items() ]\n",
    "    doc_scores.sort(reverse=True)\n",
    "    #print document titles instead if document id's\n",
    "    #result_docs=[ title_index[x] for x in result_docs ]\n",
    "    if len(doc_scores) == 0:\n",
    "        print(\"No results found for query\")\n",
    "    #print ('\\n'.join(result_docs), '\\n')\n",
    "    return doc_scores"
   ]
  },
  {
   "cell_type": "code",
   "execution_count": 183,
   "metadata": {},
   "outputs": [],
   "source": [
    "#Let's keep that as a reference\n",
    "def rank_documents(terms, docs, index, idf, tf):\n",
    "    \"\"\"\n",
    "    Perform the ranking of the results of a search based on the tf-idf weights\n",
    "    \n",
    "    Argument:\n",
    "    terms -- list of query terms\n",
    "    docs -- list of documents, to rank, matching the query\n",
    "    index -- inverted index data structure\n",
    "    idf -- inverted document frequencies\n",
    "    tf -- term frequencies\n",
    "    \n",
    "    Returns:\n",
    "    list of ranked documents\n",
    "    \"\"\"\n",
    "\n",
    "    # I'm interested only on the element of the docVector corresponding to the query terms \n",
    "    # The remaining elements would became 0 when multiplied to the query_vector\n",
    "    doc_vectors = defaultdict(lambda: [0] * len(terms)) # I call doc_vectors[k] for a nonexistent key k, the key-value pair (k,[0]*len(terms)) will be automatically added to the dictionary\n",
    "    query_vector = [0] * len(terms)\n",
    "\n",
    "    # compute the norm for the query tf\n",
    "    query_terms_count = collections.Counter(terms)  # get the frequency of each term in the query. \n",
    "\n",
    "    query_norm = la.norm(list(query_terms_count.values()))\n",
    "\n",
    "    for termIndex, term in enumerate(terms):  #termIndex is the index of the term in the query\n",
    "        if term not in index:\n",
    "            continue\n",
    "\n",
    "        ## Compute tf*idf(normalize TF as done with documents)\n",
    "        query_vector[termIndex]=query_terms_count[term]/query_norm *idf[term]\n",
    "\n",
    "        # Generate doc_vectors for matching docs\n",
    "        for doc_index, (doc, postings) in enumerate(index[term]):\n",
    "\n",
    "            #tf[term][0] will contain the tf of the term \"term\" in the doc 26            \n",
    "            if doc in docs:\n",
    "                doc_vectors[doc][termIndex] = tf[term][doc_index] * idf[term]\n",
    "    \n",
    "    # Calculate the score of each doc \n",
    "    # compute the cosine similarity between queyVector and each docVector:\n",
    "    \n",
    "    doc_scores=[[np.dot(curDocVec, query_vector), doc] for doc, curDocVec in doc_vectors.items() ]\n",
    "    doc_scores.sort(reverse=True)\n",
    "    #print document titles instead if document id's\n",
    "    #result_docs=[ title_index[x] for x in result_docs ]\n",
    "    if len(doc_scores) == 0:\n",
    "        print(\"No results found for query\")\n",
    "    #print ('\\n'.join(result_docs), '\\n')\n",
    "    return doc_scores"
   ]
  },
  {
   "cell_type": "code",
   "execution_count": 184,
   "metadata": {},
   "outputs": [],
   "source": [
    "def search_tf_idf(query, index, ranking):\n",
    "    \"\"\"\n",
    "    output is the list of documents that contain any of the query terms. \n",
    "    So, we will get the list of documents for each query term, and take the union of them.\n",
    "    \"\"\"\n",
    "    query = build_terms(query)\n",
    "    docs = set()\n",
    "    for term in query:\n",
    "        try:\n",
    "            # store in term_docs the ids of the docs that contain \"term\"                        \n",
    "            term_docs=[posting[0] for posting in index[term]]\n",
    "            \n",
    "            # docs = docs Union term_docs\n",
    "            docs = docs.union(term_docs)\n",
    "        except:\n",
    "            #term is not in index\n",
    "            pass\n",
    "    docs = list(docs)\n",
    "    if (ranking == \"bm25\"):\n",
    "        ranked_docs = rank_documents_bm25(query, docs, index, idf, tf, k1 = 1.6, b = 0.75, N = data.shape[0], docu_length = docu_length, lavg = lavg) #TO-DO new formula!! (new function, new attributes)\n",
    "    elif (ranking == \"classical-tf-idf\"):\n",
    "        ranked_docs = rank_documents(query, docs, index, idf, tf)\n",
    "    else:\n",
    "        print(\"We don't have this way of ranking... Maybe try with: \\n 1) bm25 \\n 2) classical-tf-idf\")\n",
    "    return ranked_docs"
   ]
  },
  {
   "cell_type": "code",
   "execution_count": 185,
   "metadata": {},
   "outputs": [],
   "source": [
    "def search_tf_idf_subset(query, index, subset, ranking):\n",
    "    \"\"\"\n",
    "    output is the list of documents that contain any of the query terms. \n",
    "    So, we will get the list of documents for each query term, and take the union of them.\n",
    "    \"\"\"\n",
    "    query = build_terms(query)\n",
    "    docs = set()\n",
    "    for term in query:\n",
    "        try:\n",
    "            # store in term_docs the ids of the docs that contain \"term\" and are in the subset.                       \n",
    "            term_docs=[posting[0] for posting in index[term] if posting[0] in subset]\n",
    "            \n",
    "            # docs = docs Union term_docs\n",
    "            docs = docs.union(term_docs)\n",
    "        except:\n",
    "            #term is not in index\n",
    "            pass\n",
    "    docs = list(docs)\n",
    "    ranked_docs = rank_documents_bm25(query, docs, index, idf, tf, k1 = 1.6, b = 0.75, N = data.shape[0], docu_length = docu_length, lavg = lavg) #TO-DO new formula!! (new function, new attributes)\n",
    "    return ranked_docs"
   ]
  },
  {
   "cell_type": "markdown",
   "metadata": {},
   "source": [
    "**Results** for `classical-tf-idf`"
   ]
  },
  {
   "cell_type": "code",
   "execution_count": 186,
   "metadata": {},
   "outputs": [
    {
     "name": "stdout",
     "output_type": "stream",
     "text": [
      "\n",
      "======================\n",
      "Top 5 results out of 605 for the searched query 'Floodings in South Carolina':\n",
      "\n",
      "doc_254 - score 4.74475387696339 - text: ['south', 'carolina', 'hurricaneian'] \n",
      "doc_1289 - score 4.315205653041319 - text: ['flood', 'garden', 'citi', 'south', 'carolina', 'gardenc', 'southcarolina', 'hurricaneian'] \n",
      "doc_2874 - score 4.10872348195652 - text: ['charleston', 'south', 'carolina', 'hurricaneian'] \n",
      "doc_2834 - score 4.10872348195652 - text: ['charleston', 'south', 'carolina', 'hurricaneian'] \n",
      "doc_174 - score 4.10872348195652 - text: ['south', 'carolina', 'hurricaneian', 'go'] \n",
      "\n",
      "======================\n",
      "Top 5 results out of 131 for the searched query 'HurracaineIan disaster':\n",
      "\n",
      "doc_3964 - score 4.132642169823945 - text: ['duke', 'energi', 'donat', 'florida', 'disast', 'fund', 'manag', 'volunt', 'florida', 'foundat', 'assist', 'commun', 'affect', 'hurricaneian', 'contribut', 'florida', 'disast', 'fund', 'visit', 'text', 'disast', 'info'] \n",
      "doc_865 - score 3.792112455030452 - text: ['hurricaneian', 'updat', 'orang', 'counti', 'ad', 'fema', 'disast', 'declar', 'survivor', 'appli', 'disast', 'assist', 'fema', 'app', 'info'] \n",
      "doc_3933 - score 3.6962351566905367 - text: ['thank', 'fortmyer', 'hurricaneian', 'disast', 'floridaintheheart'] \n",
      "doc_259 - score 3.6962351566905367 - text: ['iron', 'segment', 'philli', 'disast', 'foxnew', 'faulknerfocu', 'right', 'updat', 'hurricaneian', 'disast', 'new', 'new', 'homepag', 'capecor', 'impeachkrasn', 'prayforflorida'] \n",
      "doc_1635 - score 3.6962351566905367 - text: ['know', 'disasterdistresshelplin', 'ddh', 'dedic', 'disast', 'crisi', 'counsel', 'us', 'resid', 'experienc', 'mental', 'health', 'concern', 'relat', 'natur', 'disast', 'hurricaneian', 'mentalhealthmatt'] \n",
      "\n",
      "======================\n",
      "Top 5 results out of 231 for the searched query 'Damage of HuracaineIan':\n",
      "\n",
      "doc_2687 - score 2.8749627271127562 - text: ['blind', 'pass', 'bridg', 'sanibel', 'captiva', 'rd', 'signific', 'damag', 'structur', 'miss', 'damag', 'ian', 'hurricaneian', 'flwx'] \n",
      "doc_1555 - score 2.8749627271127562 - text: ['damag', 'hurricaneian', 'catastroph', 'histor'] \n",
      "doc_1226 - score 2.638065798398665 - text: ['friday', 'morn', 'damag', 'longer', 'hidden', 'water', 'locat', 'hurricaneian', 'damag', 'border', 'port', 'charlott', 'amp', 'flwx', 'peaceluvorganix', 'theweatherladi', 'kindnessforstev'] \n",
      "doc_3735 - score 2.5713666631296492 - text: ['satellit', 'imageri', 'damag', 'hurricaneian', 'sanibel'] \n",
      "doc_372 - score 2.5713666631296492 - text: ['survey', 'damag', 'hurricaneian', 'southwest', 'florida'] \n",
      "\n",
      "======================\n",
      "Top 5 results out of 1114 for the searched query 'Florida floodings':\n",
      "\n",
      "doc_1317 - score 3.794380721457354 - text: ['serfc', 'florida', 'brief', 'flood', 'hurricaneian', 'flwx', 'flood'] \n",
      "doc_1672 - score 3.250375687450309 - text: ['edgewat', 'florida', 'flood', 'hurricaneian'] \n",
      "doc_1493 - score 2.9694789323793103 - text: ['wind', 'bad', 'us', 'lowcountri', 'like', 'florida', 'wind', 'worri', 'flood', 'lowcountri', 'flood', 'regular', 'rain', 'storm', 'hurrican', 'flood', 'mani', 'home', 'fast', 'hurricaneian'] \n",
      "doc_2901 - score 2.907136014855557 - text: ['hurricaneian', 'florida', 'rain', 'flood', 'report'] \n",
      "doc_824 - score 2.8189040144223148 - text: ['decis', 'support', 'brief', 'address', 'potenti', 'flood', 'carolina', 'virginia', 'hurricaneian', 'flood'] \n",
      "\n",
      "======================\n",
      "Top 5 results out of 1333 for the searched query 'Storm and wind in Florida':\n",
      "\n",
      "doc_370 - score 2.8184075410327574 - text: ['hurricaneian', 'advisori', 'max', 'wind', 'sshw', 'mslp', 'center', 'ian', 'make', 'landfal', 'storm', 'surg', 'damag', 'wind', 'flash', 'flood', 'lash', 'carolina'] \n",
      "doc_2794 - score 2.77975276449882 - text: ['storm', 'chaser', 'reed', 'timmer', 'reedtimmeraccu', 'record', 'chaotic', 'scene', 'flood', 'storm', 'surg', 'howl', 'wind', 'pine', 'island', 'florida', 'enter', 'eye', 'hurricaneian'] \n",
      "doc_1417 - score 2.7583100467507595 - text: ['wind', 'resili', 'capecor', 'hurricaneian', 'better', 'ever', 'would', 'expect', 'pic', 'show', 'home', 'block', 'obviou', 'wind', 'damag', 'despit', 'cat', 'wind', 'gust'] \n",
      "doc_3501 - score 2.750342242635723 - text: ['hurricaneian', 'advisori', 'max', 'wind', 'sshw', 'mslp', 'hurrican', 'ian', 'acceler', 'toward', 'south', 'carolina', 'coast', 'storm', 'surg', 'damag', 'wind', 'arriv', 'soon'] \n",
      "doc_557 - score 2.746573006641334 - text: ['pm', 'updat', 'hurricaneian', 'make', 'landfal', 'center', 'storm', 'mile', 'ene', 'charleston', 'sc', 'mph', 'wind', 'still', 'cat', 'hurrican', 'flash', 'flood', 'damag', 'wind', 'life', 'threaten', 'storm', 'surg', 'expect', 'weaken', 'rapidli', 'continu', 'move', 'land'] \n"
     ]
    }
   ],
   "source": [
    "for query in queries:\n",
    "    ranked_docs = search_tf_idf(query, new_index, ranking =\"classical-tf-idf\")\n",
    "    top = 5\n",
    "\n",
    "    print(\"\\n======================\\nTop {} results out of {} for the searched query '{}':\\n\".format(top, len(ranked_docs),query))\n",
    "    for doc in ranked_docs[:top]:\n",
    "        print(\"{} - score {} - text: {} \".format(doc[1], doc[0], data[data['Document']==doc[1]]['Clean_text'].iloc[0]))"
   ]
  },
  {
   "cell_type": "code",
   "execution_count": null,
   "metadata": {},
   "outputs": [],
   "source": []
  },
  {
   "cell_type": "markdown",
   "metadata": {},
   "source": [
    "**Results** for `bm25`"
   ]
  },
  {
   "cell_type": "code",
   "execution_count": 187,
   "metadata": {},
   "outputs": [
    {
     "name": "stdout",
     "output_type": "stream",
     "text": [
      "\n",
      "======================\n",
      "Top 5 results out of 605 for the searched query 'Floodings in South Carolina':\n",
      "\n",
      "doc_254 - score 6.577248263193381 - text: ['south', 'carolina', 'hurricaneian'] \n",
      "doc_2874 - score 5.683435379919324 - text: ['charleston', 'south', 'carolina', 'hurricaneian'] \n",
      "doc_2834 - score 5.683435379919324 - text: ['charleston', 'south', 'carolina', 'hurricaneian'] \n",
      "doc_174 - score 5.683435379919324 - text: ['south', 'carolina', 'hurricaneian', 'go'] \n",
      "doc_1289 - score 5.25208707517901 - text: ['flood', 'garden', 'citi', 'south', 'carolina', 'gardenc', 'southcarolina', 'hurricaneian'] \n",
      "\n",
      "======================\n",
      "Top 5 results out of 131 for the searched query 'HurracaineIan disaster':\n",
      "\n",
      "doc_3933 - score 3.187273866185845 - text: ['thank', 'fortmyer', 'hurricaneian', 'disast', 'floridaintheheart'] \n",
      "doc_800 - score 2.5112466794097013 - text: ['hurricaneian', 'live', 'chopper', 'feed', 'florida', 'disast', 'area'] \n",
      "doc_2315 - score 2.5112466794097013 - text: ['hurricaneian', 'disast', 'relief', 'help', 'greatli', 'appreci', 'learn'] \n",
      "doc_1408 - score 2.2908134545580774 - text: ['flumc', 'disast', 'recoveri', 'hotlin', 'open', 'flumc', 'hurricaneian'] \n",
      "doc_2425 - score 2.25542197622416 - text: ['someth', 'see', 'disast', 'movi', 'real', 'devast', 'fortmyer', 'hurricaneian'] \n",
      "\n",
      "======================\n",
      "Top 5 results out of 231 for the searched query 'Damage of HuracaineIan':\n",
      "\n",
      "doc_1555 - score 3.038624187257626 - text: ['damag', 'hurricaneian', 'catastroph', 'histor'] \n",
      "doc_3735 - score 2.6584745647542727 - text: ['satellit', 'imageri', 'damag', 'hurricaneian', 'sanibel'] \n",
      "doc_372 - score 2.6584745647542727 - text: ['survey', 'damag', 'hurricaneian', 'southwest', 'florida'] \n",
      "doc_3658 - score 2.6584745647542727 - text: ['get', 'plantat', 'venicefl', 'hurricaneian', 'damag'] \n",
      "doc_3409 - score 2.6584745647542727 - text: ['well', 'check', 'hurricaneian', 'damag', 'venicefl'] \n",
      "\n",
      "======================\n",
      "Top 5 results out of 1114 for the searched query 'Florida floodings':\n",
      "\n",
      "doc_1672 - score 4.412130701641046 - text: ['edgewat', 'florida', 'flood', 'hurricaneian'] \n",
      "doc_2901 - score 3.860147396927724 - text: ['hurricaneian', 'florida', 'rain', 'flood', 'report'] \n",
      "doc_1317 - score 3.813794085934804 - text: ['serfc', 'florida', 'brief', 'flood', 'hurricaneian', 'flwx', 'flood'] \n",
      "doc_3998 - score 3.411362735506983 - text: ['realli', 'hurricaneian', 'flood', 'florida', 'magatear', 'flute'] \n",
      "doc_1147 - score 3.2402601285073604 - text: ['flood', 'portsmouth', 'hurricaneian'] \n",
      "\n",
      "======================\n",
      "Top 5 results out of 1333 for the searched query 'Storm and wind in Florida':\n",
      "\n",
      "doc_2950 - score 4.041152112378967 - text: ['hurricaneian', 'florida', 'signific', 'wind', 'gust'] \n",
      "doc_772 - score 3.4796841264696923 - text: ['wind', 'wild', 'hurricaneian'] \n",
      "doc_3012 - score 3.1318029654573767 - text: ['advisori', 'storm', 'surg', 'damag', 'wind', 'arriv', 'soon', 'carolina', 'hurricaneian'] \n",
      "doc_2934 - score 3.1318029654573767 - text: ['hurricaneian', 'tropic', 'storm', 'wind', 'extend', 'mile', 'look', 'compar', 'texa'] \n",
      "doc_2813 - score 3.1318029654573767 - text: ['edt', 'nation', 'hurrican', 'center', 'hurricaneian', 'storm', 'forc', 'wind', 'probabl'] \n"
     ]
    }
   ],
   "source": [
    "for query in queries:\n",
    "    ranked_docs = search_tf_idf(query, new_index, ranking =\"bm25\")\n",
    "    top = 5\n",
    "\n",
    "    print(\"\\n======================\\nTop {} results out of {} for the searched query '{}':\\n\".format(top, len(ranked_docs),query))\n",
    "    for doc in ranked_docs[:top]:\n",
    "        print(\"{} - score {} - text: {} \".format(doc[1], doc[0], data[data['Document']==doc[1]]['Clean_text'].iloc[0]))"
   ]
  },
  {
   "cell_type": "code",
   "execution_count": null,
   "metadata": {},
   "outputs": [],
   "source": []
  }
 ],
 "metadata": {
  "kernelspec": {
   "display_name": "Python 3 (ipykernel)",
   "language": "python",
   "name": "python3"
  },
  "language_info": {
   "codemirror_mode": {
    "name": "ipython",
    "version": 3
   },
   "file_extension": ".py",
   "mimetype": "text/x-python",
   "name": "python",
   "nbconvert_exporter": "python",
   "pygments_lexer": "ipython3",
   "version": "3.9.12"
  },
  "vscode": {
   "interpreter": {
    "hash": "ced987a247890006fadb174404bf884c2606133e9ca5a8bdda00b49ca7b4dc36"
   }
  }
 },
 "nbformat": 4,
 "nbformat_minor": 2
}
